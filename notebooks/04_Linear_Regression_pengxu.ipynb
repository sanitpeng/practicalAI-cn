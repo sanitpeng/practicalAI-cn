{
 "cells": [
  {
   "cell_type": "markdown",
   "metadata": {
    "colab_type": "text",
    "id": "bOChJSNXtC9g"
   },
   "source": [
    "# 线性回归"
   ]
  },
  {
   "cell_type": "markdown",
   "metadata": {
    "colab_type": "text",
    "id": "OLIxEDq6VhvZ"
   },
   "source": [
    "<img src=\"https://raw.githubusercontent.com/GokuMohandas/practicalAI/master/images/logo.png\" width=150>\n",
    "\n",
    "在这节课上我们将学习线性回归。 我们将先理解它背后的数学基础原理再用python去实现它。 我们还将通过方法去讲解线性模型。\n",
    "\n"
   ]
  },
  {
   "cell_type": "markdown",
   "metadata": {
    "colab_type": "text",
    "id": "VoMq0eFRvugb"
   },
   "source": [
    "# 概述"
   ]
  },
  {
   "cell_type": "markdown",
   "metadata": {
    "colab_type": "text",
    "id": "-qHciBsX93ej"
   },
   "source": [
    "<img src=\"https://raw.githubusercontent.com/GokuMohandas/practicalAI/master/images/linear.png\" width=250>\n",
    "\n",
    "$\\hat{y} = XW$\n",
    "\n",
    "*where*:\n",
    "* $\\hat{y}$ = 预测值 | $\\in \\mathbb{R}^{NX1}$ ($N$ 是样本的个数)\n",
    "* $X$ = 输入 | $\\in \\mathbb{R}^{NXD}$ ($D$ 是特征的个数)\n",
    "* $W$ = 权重 | $\\in \\mathbb{R}^{DX1}$ "
   ]
  },
  {
   "cell_type": "markdown",
   "metadata": {
    "colab_type": "text",
    "id": "QAgr7Grv9pb6"
   },
   "source": [
    "* **目标:**  通过线性模型的输入 $X$ 去预测 $\\hat{y}$。模型将会寻找一条最优的线使得我们的预测值和目标值最为接近。训练数据 $(X, y)$ 用来训练这个模型并且通过随机梯度下降(SGD)学习权重 $W$。\n",
    "* **优点:**\n",
    "  * 计算简单。\n",
    "  * 解释性强。\n",
    "  * 可用于连续（continuous）和无序的类别（categorical）特征。\n",
    "* **缺点:**\n",
    "  * 线性模型只能用于线性可分的数据(针对于分类任务).\n",
    "  * 但是通常来讲不会用于分类任务，仅仅用于回归问题。\n",
    "* **其他:** 当然你也可以使用线性回归去做二分类任务，如果预测出的连续数值高于一个阈值它就属于一个特定的分类。但是我们在未来的课程中将会介绍可用于做二分类任务更好的模型，所以我们本次课程只会集中在怎么用线性回归去做回归任务。\n"
   ]
  },
  {
   "cell_type": "markdown",
   "metadata": {
    "colab_type": "text",
    "id": "xP7XD24-09Io"
   },
   "source": [
    "# 训练"
   ]
  },
  {
   "cell_type": "markdown",
   "metadata": {
    "colab_type": "text",
    "id": "476yPgTM1BKJ"
   },
   "source": [
    "*步骤*: \n",
    "1. 随机初始化模型的权重$W$。\n",
    "2. 将输入值 $X$ 传入模型并且得到预测值$\\hat{y}$。\n",
    "3. 通过损失函数来计算预测值$\\hat{y}$和真实值$\\hat{y}$之间的差距，从而得到损失值$J$。普遍在线性回归中用到的损失函数是均方误差(MSE)。这个函数计算出预测值和真实值之间的差距的平方($\\frac{1}{2}$ 没有数学意义，只是在求导的时候可以正好和平方抵消，方便计算)。\n",
    "  * $MSE = J(\\theta) = \\frac{1}{2}\\sum_{i}(\\hat{y}_i - y_i)^2$\n",
    "4. 计算出对于模型权重的损失梯度$J(\\theta)$\n",
    "  * $J(\\theta) = \\frac{1}{2}\\sum_{i}(\\hat{y}_i - y_i)^2 = \\frac{1}{2}\\sum_{i}(X_iW - y_i)^2 $\n",
    "  * $\\frac{\\partial{J}}{\\partial{W}} = X(\\hat{y} - y)$\n",
    "4. 我们使用学习率$\\alpha$和一个优化方法(比如随机梯度下降)，通过反向传播来更新权重$W$。 一个简单的比方就是梯度可以告诉你在哪个方向上增加数值，然后通过减法来使得损失值$J(\\theta)$越来越小。\n",
    "  * $W = W- \\alpha\\frac{\\partial{J}}{\\partial{W}}$\n",
    "5. 重复2 - 4步直到模型表现最好（也可以说直到损失收敛）。"
   ]
  },
  {
   "cell_type": "markdown",
   "metadata": {
    "colab_type": "text",
    "id": "jvJKjkMeJP4Q"
   },
   "source": [
    "# 数据"
   ]
  },
  {
   "cell_type": "markdown",
   "metadata": {
    "colab_type": "text",
    "id": "RuPl9qlSJTIY"
   },
   "source": [
    "我们将自己创建一些假数据应用在线性回归上。"
   ]
  },
  {
   "cell_type": "code",
   "execution_count": 1,
   "metadata": {
    "colab": {},
    "colab_type": "code",
    "id": "HRXD7LqVJZ43"
   },
   "outputs": [],
   "source": [
    "from argparse import Namespace\n",
    "import matplotlib.pyplot as plt\n",
    "import numpy as np\n",
    "import pandas as pd"
   ]
  },
  {
   "cell_type": "code",
   "execution_count": 2,
   "metadata": {
    "colab": {},
    "colab_type": "code",
    "id": "NFsKg-Z6IWqG"
   },
   "outputs": [],
   "source": [
    "# 参数\n",
    "args = Namespace(\n",
    "    seed=1234,\n",
    "    data_file=\"sample_data.csv\",\n",
    "    num_samples=100,\n",
    "    train_size=0.75,\n",
    "    test_size=0.25,\n",
    "    num_epochs=100,\n",
    ")\n",
    "\n",
    "# 设置随机种子来保证实验结果的可重复性。\n",
    "np.random.seed(args.seed)"
   ]
  },
  {
   "cell_type": "code",
   "execution_count": 3,
   "metadata": {
    "colab": {},
    "colab_type": "code",
    "id": "NWux2lcoIWss"
   },
   "outputs": [],
   "source": [
    "# 生成数据,生成圆 X^2 + Y^2 = R^2\n",
    "# y = sqrt(R^2 - X^2)\n",
    "def generate_data(num_samples):\n",
    "    X = np.array(range(num_samples))\n",
    "    y = np.sqrt(10000 - X**2)\n",
    "    return X, y"
   ]
  },
  {
   "cell_type": "code",
   "execution_count": 4,
   "metadata": {
    "colab": {
     "base_uri": "https://localhost:8080/",
     "height": 204
    },
    "colab_type": "code",
    "id": "2mb2SjSQIWvF",
    "outputId": "3aa66ef6-3c88-40fd-f53a-a77f93c8e052"
   },
   "outputs": [
    {
     "data": {
      "text/html": [
       "<div>\n",
       "<style scoped>\n",
       "    .dataframe tbody tr th:only-of-type {\n",
       "        vertical-align: middle;\n",
       "    }\n",
       "\n",
       "    .dataframe tbody tr th {\n",
       "        vertical-align: top;\n",
       "    }\n",
       "\n",
       "    .dataframe thead th {\n",
       "        text-align: right;\n",
       "    }\n",
       "</style>\n",
       "<table border=\"1\" class=\"dataframe\">\n",
       "  <thead>\n",
       "    <tr style=\"text-align: right;\">\n",
       "      <th></th>\n",
       "      <th>X</th>\n",
       "      <th>y</th>\n",
       "    </tr>\n",
       "  </thead>\n",
       "  <tbody>\n",
       "    <tr>\n",
       "      <th>0</th>\n",
       "      <td>0.0</td>\n",
       "      <td>100.000000</td>\n",
       "    </tr>\n",
       "    <tr>\n",
       "      <th>1</th>\n",
       "      <td>1.0</td>\n",
       "      <td>99.995000</td>\n",
       "    </tr>\n",
       "    <tr>\n",
       "      <th>2</th>\n",
       "      <td>2.0</td>\n",
       "      <td>99.979998</td>\n",
       "    </tr>\n",
       "    <tr>\n",
       "      <th>3</th>\n",
       "      <td>3.0</td>\n",
       "      <td>99.954990</td>\n",
       "    </tr>\n",
       "    <tr>\n",
       "      <th>4</th>\n",
       "      <td>4.0</td>\n",
       "      <td>99.919968</td>\n",
       "    </tr>\n",
       "  </tbody>\n",
       "</table>\n",
       "</div>"
      ],
      "text/plain": [
       "     X           y\n",
       "0  0.0  100.000000\n",
       "1  1.0   99.995000\n",
       "2  2.0   99.979998\n",
       "3  3.0   99.954990\n",
       "4  4.0   99.919968"
      ]
     },
     "execution_count": 4,
     "metadata": {},
     "output_type": "execute_result"
    }
   ],
   "source": [
    "# 生成随机数据\n",
    "X, y = generate_data(args.num_samples)\n",
    "data = np.vstack([X, y]).T\n",
    "df = pd.DataFrame(data, columns=['X', 'y'])\n",
    "df.head()"
   ]
  },
  {
   "cell_type": "code",
   "execution_count": 5,
   "metadata": {},
   "outputs": [
    {
     "data": {
      "text/html": [
       "<div>\n",
       "<style scoped>\n",
       "    .dataframe tbody tr th:only-of-type {\n",
       "        vertical-align: middle;\n",
       "    }\n",
       "\n",
       "    .dataframe tbody tr th {\n",
       "        vertical-align: top;\n",
       "    }\n",
       "\n",
       "    .dataframe thead th {\n",
       "        text-align: right;\n",
       "    }\n",
       "</style>\n",
       "<table border=\"1\" class=\"dataframe\">\n",
       "  <thead>\n",
       "    <tr style=\"text-align: right;\">\n",
       "      <th></th>\n",
       "      <th>X</th>\n",
       "      <th>y</th>\n",
       "    </tr>\n",
       "  </thead>\n",
       "  <tbody>\n",
       "    <tr>\n",
       "      <th>0</th>\n",
       "      <td>0.0</td>\n",
       "      <td>100.000000</td>\n",
       "    </tr>\n",
       "    <tr>\n",
       "      <th>1</th>\n",
       "      <td>1.0</td>\n",
       "      <td>99.995000</td>\n",
       "    </tr>\n",
       "    <tr>\n",
       "      <th>2</th>\n",
       "      <td>2.0</td>\n",
       "      <td>99.979998</td>\n",
       "    </tr>\n",
       "    <tr>\n",
       "      <th>3</th>\n",
       "      <td>3.0</td>\n",
       "      <td>99.954990</td>\n",
       "    </tr>\n",
       "    <tr>\n",
       "      <th>4</th>\n",
       "      <td>4.0</td>\n",
       "      <td>99.919968</td>\n",
       "    </tr>\n",
       "    <tr>\n",
       "      <th>...</th>\n",
       "      <td>...</td>\n",
       "      <td>...</td>\n",
       "    </tr>\n",
       "    <tr>\n",
       "      <th>95</th>\n",
       "      <td>95.0</td>\n",
       "      <td>31.224990</td>\n",
       "    </tr>\n",
       "    <tr>\n",
       "      <th>96</th>\n",
       "      <td>96.0</td>\n",
       "      <td>28.000000</td>\n",
       "    </tr>\n",
       "    <tr>\n",
       "      <th>97</th>\n",
       "      <td>97.0</td>\n",
       "      <td>24.310492</td>\n",
       "    </tr>\n",
       "    <tr>\n",
       "      <th>98</th>\n",
       "      <td>98.0</td>\n",
       "      <td>19.899749</td>\n",
       "    </tr>\n",
       "    <tr>\n",
       "      <th>99</th>\n",
       "      <td>99.0</td>\n",
       "      <td>14.106736</td>\n",
       "    </tr>\n",
       "  </tbody>\n",
       "</table>\n",
       "<p>100 rows × 2 columns</p>\n",
       "</div>"
      ],
      "text/plain": [
       "       X           y\n",
       "0    0.0  100.000000\n",
       "1    1.0   99.995000\n",
       "2    2.0   99.979998\n",
       "3    3.0   99.954990\n",
       "4    4.0   99.919968\n",
       "..   ...         ...\n",
       "95  95.0   31.224990\n",
       "96  96.0   28.000000\n",
       "97  97.0   24.310492\n",
       "98  98.0   19.899749\n",
       "99  99.0   14.106736\n",
       "\n",
       "[100 rows x 2 columns]"
      ]
     },
     "execution_count": 5,
     "metadata": {},
     "output_type": "execute_result"
    }
   ],
   "source": [
    "df"
   ]
  },
  {
   "cell_type": "code",
   "execution_count": 6,
   "metadata": {
    "colab": {
     "base_uri": "https://localhost:8080/",
     "height": 362
    },
    "colab_type": "code",
    "id": "6LwVVOkiLfBN",
    "outputId": "ab2ecddb-bbeb-4117-d1cf-29312846da16"
   },
   "outputs": [
    {
     "data": {
      "image/png": "[encoded data removed]",
      "text/plain": [
       "<Figure size 432x288 with 1 Axes>"
      ]
     },
     "metadata": {
      "needs_background": "light"
     },
     "output_type": "display_data"
    }
   ],
   "source": [
    "# 画散点图\n",
    "plt.title(\"Generated data\")\n",
    "plt.scatter(x=df[\"X\"], y=df[\"y\"])\n",
    "plt.show()"
   ]
  },
  {
   "cell_type": "markdown",
   "metadata": {
    "colab_type": "text",
    "id": "Qwn29SjK-XCg"
   },
   "source": [
    "# Scikit-learn 实现方法"
   ]
  },
  {
   "cell_type": "markdown",
   "metadata": {
    "colab_type": "text",
    "id": "-kSEp8MY-y9C"
   },
   "source": [
    "**注意**: `LinearRegression`类在Scikit-learn中使用的是正规方程法来做的拟合。然而，我们将会使用Scikit-learn中的随机梯度下降`SGDRegressor`类来拟合数据。我们使用这个优化方法是因为在未来的几节课程中我们也会使用到它。"
   ]
  },
  {
   "cell_type": "code",
   "execution_count": 7,
   "metadata": {
    "colab": {},
    "colab_type": "code",
    "id": "uKmBKodpgHEE"
   },
   "outputs": [
    {
     "name": "stderr",
     "output_type": "stream",
     "text": [
      "/Users/xupeng/opt/anaconda3/lib/python3.8/site-packages/sklearn/utils/deprecation.py:143: FutureWarning: The sklearn.linear_model.stochastic_gradient module is  deprecated in version 0.22 and will be removed in version 0.24. The corresponding classes / functions should instead be imported from sklearn.linear_model. Anything that cannot be imported from sklearn.linear_model is now part of the private API.\n",
      "  warnings.warn(message, FutureWarning)\n"
     ]
    }
   ],
   "source": [
    "# 调包\n",
    "from sklearn.linear_model.stochastic_gradient import SGDRegressor\n",
    "from sklearn.preprocessing import StandardScaler\n",
    "from sklearn.model_selection import train_test_split"
   ]
  },
  {
   "cell_type": "code",
   "execution_count": 8,
   "metadata": {
    "colab": {
     "base_uri": "https://localhost:8080/",
     "height": 85
    },
    "colab_type": "code",
    "id": "WuUQwD72NVAE",
    "outputId": "c46cd73c-7ca4-4d57-ee4b-0fc636f5cde5"
   },
   "outputs": [
    {
     "name": "stdout",
     "output_type": "stream",
     "text": [
      "X_train: (75, 1)\n",
      "y_train: (75,)\n",
      "X_test: (25, 1)\n",
      "y_test: (25,)\n"
     ]
    }
   ],
   "source": [
    "# 划分数据到训练集和测试集\n",
    "X_train, X_test, y_train, y_test = train_test_split(\n",
    "    df[\"X\"].values.reshape(-1, 1), df[\"y\"], test_size=args.test_size, \n",
    "    random_state=args.seed)\n",
    "print (\"X_train:\", X_train.shape)\n",
    "print (\"y_train:\", y_train.shape)\n",
    "print (\"X_test:\", X_test.shape)\n",
    "print (\"y_test:\", y_test.shape)"
   ]
  },
  {
   "cell_type": "code",
   "execution_count": 9,
   "metadata": {},
   "outputs": [
    {
     "name": "stdout",
     "output_type": "stream",
     "text": [
      "<class 'pandas.core.series.Series'>\n"
     ]
    }
   ],
   "source": [
    "print(type(df['X']))"
   ]
  },
  {
   "cell_type": "code",
   "execution_count": 10,
   "metadata": {},
   "outputs": [
    {
     "name": "stdout",
     "output_type": "stream",
     "text": [
      "<class 'numpy.ndarray'>\n"
     ]
    }
   ],
   "source": [
    "print(type(df[\"X\"].values.reshape(-1,1)))"
   ]
  },
  {
   "cell_type": "code",
   "execution_count": 11,
   "metadata": {},
   "outputs": [
    {
     "data": {
      "text/plain": [
       "array([[74.],\n",
       "       [62.],\n",
       "       [66.],\n",
       "       [79.],\n",
       "       [48.],\n",
       "       [ 4.],\n",
       "       [64.],\n",
       "       [10.],\n",
       "       [93.],\n",
       "       [57.],\n",
       "       [72.],\n",
       "       [36.],\n",
       "       [ 7.],\n",
       "       [54.],\n",
       "       [77.],\n",
       "       [21.],\n",
       "       [18.],\n",
       "       [70.],\n",
       "       [86.],\n",
       "       [22.],\n",
       "       [ 6.],\n",
       "       [44.],\n",
       "       [ 8.],\n",
       "       [41.],\n",
       "       [16.],\n",
       "       [45.],\n",
       "       [20.],\n",
       "       [25.],\n",
       "       [55.],\n",
       "       [78.],\n",
       "       [31.],\n",
       "       [92.],\n",
       "       [ 5.],\n",
       "       [84.],\n",
       "       [32.],\n",
       "       [52.],\n",
       "       [13.],\n",
       "       [91.],\n",
       "       [17.],\n",
       "       [28.],\n",
       "       [46.],\n",
       "       [60.],\n",
       "       [14.],\n",
       "       [65.],\n",
       "       [12.],\n",
       "       [19.],\n",
       "       [ 2.],\n",
       "       [ 3.],\n",
       "       [ 0.],\n",
       "       [11.],\n",
       "       [67.],\n",
       "       [97.],\n",
       "       [34.],\n",
       "       [37.],\n",
       "       [95.],\n",
       "       [50.],\n",
       "       [99.],\n",
       "       [73.],\n",
       "       [80.],\n",
       "       [69.],\n",
       "       [58.],\n",
       "       [90.],\n",
       "       [89.],\n",
       "       [43.],\n",
       "       [30.],\n",
       "       [26.],\n",
       "       [23.],\n",
       "       [49.],\n",
       "       [15.],\n",
       "       [24.],\n",
       "       [76.],\n",
       "       [53.],\n",
       "       [38.],\n",
       "       [83.],\n",
       "       [47.]])"
      ]
     },
     "execution_count": 11,
     "metadata": {},
     "output_type": "execute_result"
    }
   ],
   "source": [
    "X_train"
   ]
  },
  {
   "cell_type": "code",
   "execution_count": 12,
   "metadata": {},
   "outputs": [
    {
     "data": {
      "text/plain": [
       "74    67.260687\n",
       "62    78.460181\n",
       "66    75.126560\n",
       "79    61.310684\n",
       "48    87.726849\n",
       "        ...    \n",
       "76    64.992307\n",
       "53    84.799764\n",
       "38    92.498649\n",
       "83    55.776339\n",
       "47    88.266641\n",
       "Name: y, Length: 75, dtype: float64"
      ]
     },
     "execution_count": 12,
     "metadata": {},
     "output_type": "execute_result"
    }
   ],
   "source": [
    "y_train"
   ]
  },
  {
   "cell_type": "code",
   "execution_count": 13,
   "metadata": {},
   "outputs": [
    {
     "data": {
      "text/plain": [
       "array([[ 67.26068688],\n",
       "       [ 78.46018098],\n",
       "       [ 75.12655988],\n",
       "       [ 61.31068422],\n",
       "       [ 87.7268488 ],\n",
       "       [ 99.91996797],\n",
       "       [ 76.83749085],\n",
       "       [ 99.49874371],\n",
       "       [ 36.7559519 ],\n",
       "       [ 82.16446921],\n",
       "       [ 69.39740629],\n",
       "       [ 93.29523032],\n",
       "       [ 99.75469914],\n",
       "       [ 84.16650165],\n",
       "       [ 63.80438856],\n",
       "       [ 97.77013859],\n",
       "       [ 98.36666102],\n",
       "       [ 71.41428429],\n",
       "       [ 51.02940329],\n",
       "       [ 97.54998719],\n",
       "       [ 99.81983771],\n",
       "       [ 89.79977728],\n",
       "       [ 99.67948636],\n",
       "       [ 91.20855223],\n",
       "       [ 98.71170143],\n",
       "       [ 89.3028555 ],\n",
       "       [ 97.97958971],\n",
       "       [ 96.82458366],\n",
       "       [ 83.51646544],\n",
       "       [ 62.57795139],\n",
       "       [ 95.07365566],\n",
       "       [ 39.19183588],\n",
       "       [ 99.87492178],\n",
       "       [ 54.25863987],\n",
       "       [ 94.74175426],\n",
       "       [ 85.41662602],\n",
       "       [ 99.15139938],\n",
       "       [ 41.46082488],\n",
       "       [ 98.54440623],\n",
       "       [ 96.        ],\n",
       "       [ 88.79189152],\n",
       "       [ 80.        ],\n",
       "       [ 99.01515036],\n",
       "       [ 75.99342077],\n",
       "       [ 99.27738917],\n",
       "       [ 98.17840903],\n",
       "       [ 99.979998  ],\n",
       "       [ 99.95498987],\n",
       "       [100.        ],\n",
       "       [ 99.39315872],\n",
       "       [ 74.23610981],\n",
       "       [ 24.31049156],\n",
       "       [ 94.04254356],\n",
       "       [ 92.9031754 ],\n",
       "       [ 31.22498999],\n",
       "       [ 86.60254038],\n",
       "       [ 14.10673598],\n",
       "       [ 68.3447145 ],\n",
       "       [ 60.        ],\n",
       "       [ 72.38093672],\n",
       "       [ 81.46164742],\n",
       "       [ 43.58898944],\n",
       "       [ 45.59605246],\n",
       "       [ 90.28288874],\n",
       "       [ 95.39392014],\n",
       "       [ 96.56086164],\n",
       "       [ 97.31906288],\n",
       "       [ 87.17224329],\n",
       "       [ 98.86859967],\n",
       "       [ 97.0772888 ],\n",
       "       [ 64.99230724],\n",
       "       [ 84.79976415],\n",
       "       [ 92.49864864],\n",
       "       [ 55.77633907],\n",
       "       [ 88.26664149]])"
      ]
     },
     "execution_count": 13,
     "metadata": {},
     "output_type": "execute_result"
    }
   ],
   "source": [
    "y_train.values.reshape(-1,1)"
   ]
  },
  {
   "cell_type": "markdown",
   "metadata": {
    "colab_type": "text",
    "id": "MJVs6JF7trja"
   },
   "source": [
    "我们需要标准化我们的数据（零均值和单位方差），以便正确使用SGD并在速度上优化。\n",
    "\n",
    "\n",
    "\n",
    "标准化方差为1，符合正态分布\n",
    "StandardScaler\n",
    "https://blog.csdn.net/wzyaiwl/article/details/90549391"
   ]
  },
  {
   "cell_type": "code",
   "execution_count": 14,
   "metadata": {
    "colab": {
     "base_uri": "https://localhost:8080/",
     "height": 51
    },
    "colab_type": "code",
    "id": "VlOYPD5GRjRC",
    "outputId": "9d63c0d3-da44-487c-fb8c-c9879f2d97d3"
   },
   "outputs": [],
   "source": [
    "# 标准化训练集数据 (mean=0, std=1) \n",
    "X_scaler = StandardScaler().fit(X_train)\n",
    "y_scaler = StandardScaler().fit(y_train.values.reshape(-1,1))\n",
    "\n"
   ]
  },
  {
   "cell_type": "code",
   "execution_count": 15,
   "metadata": {},
   "outputs": [
    {
     "data": {
      "text/plain": [
       "StandardScaler()"
      ]
     },
     "execution_count": 15,
     "metadata": {},
     "output_type": "execute_result"
    }
   ],
   "source": [
    "X_scaler"
   ]
  },
  {
   "cell_type": "code",
   "execution_count": 16,
   "metadata": {},
   "outputs": [
    {
     "data": {
      "text/plain": [
       "StandardScaler()"
      ]
     },
     "execution_count": 16,
     "metadata": {},
     "output_type": "execute_result"
    }
   ],
   "source": [
    "y_scaler"
   ]
  },
  {
   "cell_type": "code",
   "execution_count": 17,
   "metadata": {},
   "outputs": [
    {
     "name": "stdout",
     "output_type": "stream",
     "text": [
      "mean: [8.22952817e-17] -1.258252761241844e-17\n",
      "std: [1.] 1.0\n"
     ]
    }
   ],
   "source": [
    "# 在训练集和测试集上进行标准化操作\n",
    "standardized_X_train = X_scaler.transform(X_train)\n",
    "standardized_y_train = y_scaler.transform(y_train.values.reshape(-1,1)).ravel()\n",
    "standardized_X_test = X_scaler.transform(X_test)\n",
    "standardized_y_test = y_scaler.transform(y_test.values.reshape(-1,1)).ravel()\n",
    "\n",
    "\n",
    "# 检查\n",
    "print (\"mean:\", np.mean(standardized_X_train, axis=0), \n",
    "       np.mean(standardized_y_train, axis=0)) # mean 应该是 ~0\n",
    "print (\"std:\", np.std(standardized_X_train, axis=0), \n",
    "       np.std(standardized_y_train, axis=0))   # std 应该是 1"
   ]
  },
  {
   "cell_type": "code",
   "execution_count": 18,
   "metadata": {},
   "outputs": [],
   "source": [
    "#########################################\n",
    "#这是定义.均值为0,标准差为1的正态分布称为标准正态分布. ？？？？？？？\n",
    "#彭旭？？？？\n",
    "########################################"
   ]
  },
  {
   "cell_type": "code",
   "execution_count": null,
   "metadata": {},
   "outputs": [],
   "source": []
  },
  {
   "cell_type": "code",
   "execution_count": 19,
   "metadata": {},
   "outputs": [
    {
     "data": {
      "text/plain": [
       "(array([[ 0.95724143],\n",
       "        [ 0.5410495 ],\n",
       "        [ 0.67978014],\n",
       "        [ 1.13065473],\n",
       "        [ 0.05549226],\n",
       "        [-1.4705448 ],\n",
       "        [ 0.61041482],\n",
       "        [-1.26244884],\n",
       "        [ 1.61621197],\n",
       "        [ 0.3676362 ],\n",
       "        [ 0.8878761 ],\n",
       "        [-0.36069967],\n",
       "        [-1.36649682],\n",
       "        [ 0.26358822],\n",
       "        [ 1.06128941],\n",
       "        [-0.88093957],\n",
       "        [-0.98498755],\n",
       "        [ 0.81851078],\n",
       "        [ 1.37343335],\n",
       "        [-0.84625691],\n",
       "        [-1.40117948],\n",
       "        [-0.08323838],\n",
       "        [-1.33181416],\n",
       "        [-0.18728637],\n",
       "        [-1.05435287],\n",
       "        [-0.04855572],\n",
       "        [-0.91562223],\n",
       "        [-0.74220893],\n",
       "        [ 0.29827088],\n",
       "        [ 1.09597207],\n",
       "        [-0.53411297],\n",
       "        [ 1.58152931],\n",
       "        [-1.43586214],\n",
       "        [ 1.30406803],\n",
       "        [-0.49943031],\n",
       "        [ 0.1942229 ],\n",
       "        [-1.15840086],\n",
       "        [ 1.54684665],\n",
       "        [-1.01967021],\n",
       "        [-0.63816095],\n",
       "        [-0.01387306],\n",
       "        [ 0.47168418],\n",
       "        [-1.1237182 ],\n",
       "        [ 0.64509748],\n",
       "        [-1.19308352],\n",
       "        [-0.95030489],\n",
       "        [-1.53991012],\n",
       "        [-1.50522746],\n",
       "        [-1.60927544],\n",
       "        [-1.22776618],\n",
       "        [ 0.7144628 ],\n",
       "        [ 1.75494261],\n",
       "        [-0.43006499],\n",
       "        [-0.32601701],\n",
       "        [ 1.68557729],\n",
       "        [ 0.12485758],\n",
       "        [ 1.82430793],\n",
       "        [ 0.92255877],\n",
       "        [ 1.16533739],\n",
       "        [ 0.78382812],\n",
       "        [ 0.40231886],\n",
       "        [ 1.51216399],\n",
       "        [ 1.47748133],\n",
       "        [-0.11792105],\n",
       "        [-0.56879563],\n",
       "        [-0.70752627],\n",
       "        [-0.81157425],\n",
       "        [ 0.09017492],\n",
       "        [-1.08903553],\n",
       "        [-0.77689159],\n",
       "        [ 1.02660675],\n",
       "        [ 0.22890556],\n",
       "        [-0.29133435],\n",
       "        [ 1.26938537],\n",
       "        [ 0.0208096 ]]),\n",
       " array([[74.],\n",
       "        [62.],\n",
       "        [66.],\n",
       "        [79.],\n",
       "        [48.],\n",
       "        [ 4.],\n",
       "        [64.],\n",
       "        [10.],\n",
       "        [93.],\n",
       "        [57.],\n",
       "        [72.],\n",
       "        [36.],\n",
       "        [ 7.],\n",
       "        [54.],\n",
       "        [77.],\n",
       "        [21.],\n",
       "        [18.],\n",
       "        [70.],\n",
       "        [86.],\n",
       "        [22.],\n",
       "        [ 6.],\n",
       "        [44.],\n",
       "        [ 8.],\n",
       "        [41.],\n",
       "        [16.],\n",
       "        [45.],\n",
       "        [20.],\n",
       "        [25.],\n",
       "        [55.],\n",
       "        [78.],\n",
       "        [31.],\n",
       "        [92.],\n",
       "        [ 5.],\n",
       "        [84.],\n",
       "        [32.],\n",
       "        [52.],\n",
       "        [13.],\n",
       "        [91.],\n",
       "        [17.],\n",
       "        [28.],\n",
       "        [46.],\n",
       "        [60.],\n",
       "        [14.],\n",
       "        [65.],\n",
       "        [12.],\n",
       "        [19.],\n",
       "        [ 2.],\n",
       "        [ 3.],\n",
       "        [ 0.],\n",
       "        [11.],\n",
       "        [67.],\n",
       "        [97.],\n",
       "        [34.],\n",
       "        [37.],\n",
       "        [95.],\n",
       "        [50.],\n",
       "        [99.],\n",
       "        [73.],\n",
       "        [80.],\n",
       "        [69.],\n",
       "        [58.],\n",
       "        [90.],\n",
       "        [89.],\n",
       "        [43.],\n",
       "        [30.],\n",
       "        [26.],\n",
       "        [23.],\n",
       "        [49.],\n",
       "        [15.],\n",
       "        [24.],\n",
       "        [76.],\n",
       "        [53.],\n",
       "        [38.],\n",
       "        [83.],\n",
       "        [47.]]))"
      ]
     },
     "execution_count": 19,
     "metadata": {},
     "output_type": "execute_result"
    }
   ],
   "source": [
    "standardized_X_train, X_train"
   ]
  },
  {
   "cell_type": "code",
   "execution_count": 20,
   "metadata": {},
   "outputs": [
    {
     "data": {
      "text/plain": [
       "(array([46.4]), array([28.83285163]))"
      ]
     },
     "execution_count": 20,
     "metadata": {},
     "output_type": "execute_result"
    }
   ],
   "source": [
    "X_scaler.mean_, np.sqrt(X_scaler.var_)"
   ]
  },
  {
   "cell_type": "code",
   "execution_count": 21,
   "metadata": {
    "colab": {},
    "colab_type": "code",
    "id": "CiE3oLCkOCEa"
   },
   "outputs": [],
   "source": [
    "# 初始化模型\n",
    "lm = SGDRegressor(loss=\"squared_loss\", penalty=\"none\", max_iter=args.num_epochs)"
   ]
  },
  {
   "cell_type": "code",
   "execution_count": 22,
   "metadata": {
    "colab": {
     "base_uri": "https://localhost:8080/",
     "height": 102
    },
    "colab_type": "code",
    "id": "sGH_pQaDOb49",
    "outputId": "ddfff892-314a-4d19-d8a3-549b5e6c555a"
   },
   "outputs": [
    {
     "data": {
      "text/plain": [
       "SGDRegressor(max_iter=100, penalty='none')"
      ]
     },
     "execution_count": 22,
     "metadata": {},
     "output_type": "execute_result"
    }
   ],
   "source": [
    "# 训练\n",
    "lm.fit(X=standardized_X_train, y=standardized_y_train)"
   ]
  },
  {
   "cell_type": "code",
   "execution_count": 23,
   "metadata": {
    "colab": {},
    "colab_type": "code",
    "id": "fA8VkVVGPkTr"
   },
   "outputs": [],
   "source": [
    "# 预测 (还未标准化)\n",
    "pred_train = (lm.predict(standardized_X_train) * np.sqrt(y_scaler.var_)) + y_scaler.mean_\n",
    "pred_test = (lm.predict(standardized_X_test) * np.sqrt(y_scaler.var_)) + y_scaler.mean_"
   ]
  },
  {
   "cell_type": "code",
   "execution_count": 24,
   "metadata": {},
   "outputs": [
    {
     "data": {
      "text/plain": [
       "array([ 85.195091  ,  88.39285895,  58.97339387,  71.76446564,\n",
       "        48.10098287,  67.28759052,  56.41517952,  93.50928766,\n",
       "        85.83464459,  83.91598383,  89.67196612,  73.04357282,\n",
       "        70.48535847,  50.65919722,  74.96223359,  55.13607234,\n",
       "        49.38009004, 110.13768096,  65.36892976,  58.33384028,\n",
       "       105.02125225,  78.16000153,  92.23018048,  54.49651875,\n",
       "        62.8107154 ])"
      ]
     },
     "execution_count": 24,
     "metadata": {},
     "output_type": "execute_result"
    }
   ],
   "source": [
    "pred_test"
   ]
  },
  {
   "cell_type": "markdown",
   "metadata": {
    "colab_type": "text",
    "id": "T8Ws-khqJuNr"
   },
   "source": [
    "# 评估"
   ]
  },
  {
   "cell_type": "markdown",
   "metadata": {
    "colab_type": "text",
    "id": "Y2pha3VRWd2D"
   },
   "source": [
    "有很多种方法可以来评估我们模型表现的好坏。"
   ]
  },
  {
   "cell_type": "code",
   "execution_count": 40,
   "metadata": {
    "colab": {},
    "colab_type": "code",
    "id": "abGgfBbLVjJ_"
   },
   "outputs": [],
   "source": [
    "import matplotlib.pyplot as plt"
   ]
  },
  {
   "cell_type": "code",
   "execution_count": 41,
   "metadata": {
    "colab": {
     "base_uri": "https://localhost:8080/",
     "height": 34
    },
    "colab_type": "code",
    "id": "RKm8IiP7O66e",
    "outputId": "4fd58928-36da-4d96-9222-9658e1a0bd58"
   },
   "outputs": [
    {
     "name": "stdout",
     "output_type": "stream",
     "text": [
      "train_MSE: 64.22, test_MSE: 86.37\n"
     ]
    }
   ],
   "source": [
    "# 训练和测试集上的均方误差 MSE\n",
    "train_mse = np.mean((y_train - pred_train) ** 2)\n",
    "test_mse = np.mean((y_test - pred_test) ** 2)\n",
    "print (\"train_MSE: {0:.2f}, test_MSE: {1:.2f}\".format(train_mse, test_mse))"
   ]
  },
  {
   "cell_type": "markdown",
   "metadata": {
    "colab_type": "text",
    "id": "TegkJM2-YKEq"
   },
   "source": [
    "除了使用MSE，如果我们只有一个特征向量，我们可以把他们可视化出来直观的评估模型。"
   ]
  },
  {
   "cell_type": "code",
   "execution_count": 42,
   "metadata": {
    "colab": {
     "base_uri": "https://localhost:8080/",
     "height": 335
    },
    "colab_type": "code",
    "id": "gH5N-U7YQVgn",
    "outputId": "4a1ce429-18c5-45e8-e701-2cc7affcb94b"
   },
   "outputs": [
    {
     "data": {
      "image/png": "[encoded data removed]",
      "text/plain": [
       "<Figure size 1080x360 with 2 Axes>"
      ]
     },
     "metadata": {
      "needs_background": "light"
     },
     "output_type": "display_data"
    }
   ],
   "source": [
    "# 图例大小\n",
    "plt.figure(figsize=(15,5))\n",
    "\n",
    "# 画出训练数据\n",
    "plt.subplot(1, 2, 1)\n",
    "plt.title(\"Train\")\n",
    "plt.scatter(X_train, y_train, label=\"y_train\")\n",
    "plt.plot(X_train, pred_train, color=\"red\", linewidth=1, linestyle=\"-\", label=\"lm\")\n",
    "plt.legend(loc='lower right')\n",
    "\n",
    "# 画出测试数据\n",
    "plt.subplot(1, 2, 2)\n",
    "plt.title(\"Test\")\n",
    "plt.scatter(X_test, y_test, label=\"y_test\")\n",
    "plt.plot(X_test, pred_test, color=\"red\", linewidth=1, linestyle=\"-\", label=\"lm\")\n",
    "plt.legend(loc='lower right')\n",
    "\n",
    "# 显示图例\n",
    "plt.show()"
   ]
  },
  {
   "cell_type": "markdown",
   "metadata": {
    "colab_type": "text",
    "id": "xAP1EoQi86XB"
   },
   "source": [
    "# 推论"
   ]
  },
  {
   "cell_type": "code",
   "execution_count": 44,
   "metadata": {
    "colab": {
     "base_uri": "https://localhost:8080/",
     "height": 159
    },
    "colab_type": "code",
    "id": "K2yfNk3d8-Vj",
    "outputId": "aef548b1-d0a1-4481-a9fe-4c975f278a3f"
   },
   "outputs": [
    {
     "name": "stdout",
     "output_type": "stream",
     "text": [
      "[112.19373851 111.5236782  110.85361789]\n"
     ]
    },
    {
     "data": {
      "text/html": [
       "<div>\n",
       "<style scoped>\n",
       "    .dataframe tbody tr th:only-of-type {\n",
       "        vertical-align: middle;\n",
       "    }\n",
       "\n",
       "    .dataframe tbody tr th {\n",
       "        vertical-align: top;\n",
       "    }\n",
       "\n",
       "    .dataframe thead th {\n",
       "        text-align: right;\n",
       "    }\n",
       "</style>\n",
       "<table border=\"1\" class=\"dataframe\">\n",
       "  <thead>\n",
       "    <tr style=\"text-align: right;\">\n",
       "      <th></th>\n",
       "      <th>X</th>\n",
       "      <th>y</th>\n",
       "    </tr>\n",
       "  </thead>\n",
       "  <tbody>\n",
       "    <tr>\n",
       "      <th>0</th>\n",
       "      <td>0.0</td>\n",
       "      <td>100.000000</td>\n",
       "    </tr>\n",
       "    <tr>\n",
       "      <th>1</th>\n",
       "      <td>1.0</td>\n",
       "      <td>99.995000</td>\n",
       "    </tr>\n",
       "    <tr>\n",
       "      <th>2</th>\n",
       "      <td>2.0</td>\n",
       "      <td>99.979998</td>\n",
       "    </tr>\n",
       "  </tbody>\n",
       "</table>\n",
       "</div>"
      ],
      "text/plain": [
       "     X           y\n",
       "0  0.0  100.000000\n",
       "1  1.0   99.995000\n",
       "2  2.0   99.979998"
      ]
     },
     "execution_count": 44,
     "metadata": {},
     "output_type": "execute_result"
    }
   ],
   "source": [
    "# 传入我们自己的输入值\n",
    "X_infer = np.array((0, 1, 2), dtype=np.float32)\n",
    "standardized_X_infer = X_scaler.transform(X_infer.reshape(-1, 1))\n",
    "pred_infer = (lm.predict(standardized_X_infer) * np.sqrt(y_scaler.var_)) + y_scaler.mean_\n",
    "print (pred_infer)\n",
    "df.head(3)"
   ]
  },
  {
   "cell_type": "markdown",
   "metadata": {
    "colab_type": "text",
    "id": "PHH0fYp_BYC5"
   },
   "source": [
    "# 可解释性"
   ]
  },
  {
   "cell_type": "markdown",
   "metadata": {
    "colab_type": "text",
    "id": "OhXo8CbPBZ-G"
   },
   "source": [
    "线性回归有很强的可解释性。每一个特征都有一个系数来控制对输出值y的影响大小。我们可以这样解释这个系数: 如果我们把x增加1, 我们将把y增加 $W$ (~3.65)。\n",
    "\n",
    "**注意**: 因为我们在梯度下降时标准化了我们的输入和输出，我们需要对我们的系数和截距做一个反标准化。过程可见下方。"
   ]
  },
  {
   "cell_type": "code",
   "execution_count": 59,
   "metadata": {
    "colab": {
     "base_uri": "https://localhost:8080/",
     "height": 51
    },
    "colab_type": "code",
    "id": "JZxnrDuCBbK9",
    "outputId": "adbe06d5-449a-4aa0-ebbb-ef5fdd5ef9e9"
   },
   "outputs": [
    {
     "name": "stdout",
     "output_type": "stream",
     "text": [
      "[3.64992275]\n",
      "[10.00356788]\n"
     ]
    }
   ],
   "source": [
    "# 未标准化系数\n",
    "coef = lm.coef_ * (y_scaler.scale_/X_scaler.scale_)\n",
    "intercept = lm.intercept_ * y_scaler.scale_ + y_scaler.mean_ - np.sum(coef*X_scaler.mean_)\n",
    "print (coef) # ~3.65\n",
    "print (intercept) # ~10"
   ]
  },
  {
   "cell_type": "markdown",
   "metadata": {
    "colab_type": "text",
    "id": "yVmIP13u9s33"
   },
   "source": [
    "### 非标准化系数的证明：\n",
    "\n"
   ]
  },
  {
   "cell_type": "markdown",
   "metadata": {
    "colab_type": "text",
    "id": "ViDPSLbR9v4B"
   },
   "source": [
    "注意我们的X和y都已经标准化了。\n",
    "\n",
    "$\\frac{\\mathbb{E}[y] - \\hat{y}}{\\sigma_y} = W_0 + \\sum_{j=1}^{k}W_jz_j$\n",
    "\n",
    "$z_j = \\frac{x_j - \\bar{x}_j}{\\sigma_j}$\n",
    "\n",
    "$ \\hat{y}_{scaled} = \\frac{\\hat{y}_{unscaled} - \\bar{y}}{\\sigma_y} = \\hat{W_0} + \\sum_{j=1}^{k} \\hat{W}_j (\\frac{x_j - \\bar{x}_j}{\\sigma_j}) $\n",
    "\n",
    "$\\hat{y}_{unscaled} = \\hat{W}_0\\sigma_y + \\bar{y} - \\sum_{j=1}^{k} \\hat{W}_j(\\frac{\\sigma_y}{\\sigma_j})\\bar{x}_j + \\sum_{j=1}^{k}(\\frac{\\sigma_y}{\\sigma_j})x_j $\n"
   ]
  },
  {
   "cell_type": "markdown",
   "metadata": {
    "colab_type": "text",
    "id": "rToCXKqeJcvj"
   },
   "source": [
    "# 正则化"
   ]
  },
  {
   "cell_type": "markdown",
   "metadata": {
    "colab_type": "text",
    "id": "L4GFv8xRJmOZ"
   },
   "source": [
    "正规化有助于减少过拟合。下方是L2正则化(ridge regression)。有很多正则化的方法他们都可以使我们的模型减少过拟合。对于L2正则化, 我们会减小那些值很大的权重。数值很大的权重将会使模型更加看中它们的特征，但是我们希望的是模型会公平的对待所有的特征而不是仅仅权重很大的几个。 当然还有其他的正则化方法比如L1(lasso regression)，它对于我们想创建更加稀疏的数据模型有好处，因为它会使得一些权重变成0，或者我们可以结合L2和L1正则化方法。\n",
    "\n",
    "**注意**: 正则化不仅仅用于线性回归。它可以用于任何常规模型以及我们以后将会学到的模型。"
   ]
  },
  {
   "cell_type": "markdown",
   "metadata": {
    "colab_type": "text",
    "id": "D_OcpRxF-Oj7"
   },
   "source": [
    "* $ J(\\theta) = = \\frac{1}{2}\\sum_{i}(X_iW - y_i)^2 + \\frac{\\lambda}{2}\\sum\\sum W^2$\n",
    "* $ \\frac{\\partial{J}}{\\partial{W}}  = X (\\hat{y} - y) + \\lambda W $\n",
    "* $W = W- \\alpha\\frac{\\partial{J}}{\\partial{W}}$\n",
    "where:\n",
    "  * $\\lambda$ 是正则化系数"
   ]
  },
  {
   "cell_type": "code",
   "execution_count": 60,
   "metadata": {
    "colab": {},
    "colab_type": "code",
    "id": "HHaazL9f8QZX"
   },
   "outputs": [],
   "source": [
    "# 初始化带有L2正则化的模型\n",
    "lm = SGDRegressor(loss=\"squared_loss\", penalty='l2', alpha=1e-2, \n",
    "                  max_iter=args.num_epochs)"
   ]
  },
  {
   "cell_type": "code",
   "execution_count": 61,
   "metadata": {
    "colab": {
     "base_uri": "https://localhost:8080/",
     "height": 102
    },
    "colab_type": "code",
    "id": "VTIUZLbGZP4e",
    "outputId": "e284d26b-6091-4ce9-b40c-5b9d675f0837"
   },
   "outputs": [
    {
     "data": {
      "text/plain": [
       "SGDRegressor(alpha=0.01, average=False, early_stopping=False, epsilon=0.1,\n",
       "       eta0=0.01, fit_intercept=True, l1_ratio=0.15,\n",
       "       learning_rate='invscaling', loss='squared_loss', max_iter=100,\n",
       "       n_iter=None, n_iter_no_change=5, penalty='l2', power_t=0.25,\n",
       "       random_state=None, shuffle=True, tol=None, validation_fraction=0.1,\n",
       "       verbose=0, warm_start=False)"
      ]
     },
     "execution_count": 61,
     "metadata": {},
     "output_type": "execute_result"
    }
   ],
   "source": [
    "# 训练\n",
    "lm.fit(X=standardized_X_train, y=standardized_y_train)"
   ]
  },
  {
   "cell_type": "code",
   "execution_count": 62,
   "metadata": {
    "colab": {},
    "colab_type": "code",
    "id": "ORwkUqcuZhbX"
   },
   "outputs": [],
   "source": [
    "# 预测 (还未标准化)\n",
    "pred_train = (lm.predict(standardized_X_train) * np.sqrt(y_scaler.var_)) + y_scaler.mean_\n",
    "pred_test = (lm.predict(standardized_X_test) * np.sqrt(y_scaler.var_)) + y_scaler.mean_"
   ]
  },
  {
   "cell_type": "code",
   "execution_count": 63,
   "metadata": {
    "colab": {
     "base_uri": "https://localhost:8080/",
     "height": 34
    },
    "colab_type": "code",
    "id": "IWCvYxBxZhd5",
    "outputId": "a38bb230-eb97-43c1-d43d-8dead30dedcb"
   },
   "outputs": [
    {
     "name": "stdout",
     "output_type": "stream",
     "text": [
      "train_MSE: 1.09, test_MSE: 1.15\n"
     ]
    }
   ],
   "source": [
    "# 训练集和测试集的MSE\n",
    "train_mse = np.mean((y_train - pred_train) ** 2)\n",
    "test_mse = np.mean((y_test - pred_test) ** 2)\n",
    "print (\"train_MSE: {0:.2f}, test_MSE: {1:.2f}\".format(\n",
    "    train_mse, test_mse))"
   ]
  },
  {
   "cell_type": "markdown",
   "metadata": {
    "colab_type": "text",
    "id": "mdNX2W5eh2ma"
   },
   "source": [
    "正则化对于我们在做的这个数据帮助很少，因为我们在创建数据的时候用的就是一个线性的函数。但是对于现实中的数据，正则化就可以帮助我们构建更好的模型。"
   ]
  },
  {
   "cell_type": "code",
   "execution_count": 37,
   "metadata": {
    "colab": {
     "base_uri": "https://localhost:8080/",
     "height": 51
    },
    "colab_type": "code",
    "id": "C2mrVS4UZp3Q",
    "outputId": "5ba6159b-0791-4093-9ed9-8925386edf36"
   },
   "outputs": [
    {
     "name": "stdout",
     "output_type": "stream",
     "text": [
      "[3.61384419]\n",
      "[11.67785083]\n"
     ]
    }
   ],
   "source": [
    "# 未标准化系数\n",
    "coef = lm.coef_ * (y_scaler.scale_/X_scaler.scale_)\n",
    "intercept = lm.intercept_ * y_scaler.scale_ + y_scaler.mean_ - (coef*X_scaler.mean_)\n",
    "print (coef) # ~3.65\n",
    "print (intercept) # ~10"
   ]
  },
  {
   "cell_type": "markdown",
   "metadata": {
    "colab_type": "text",
    "id": "V74lNFE5v5pQ"
   },
   "source": [
    "# 类别变量"
   ]
  },
  {
   "cell_type": "markdown",
   "metadata": {
    "colab_type": "text",
    "id": "2r6Xhyg7v5vX"
   },
   "source": [
    "在我们的例子中，特征用的是连续的数值，那么假设我们要用类别的特征变量呢？一种选择就是使用独热编码来处理类别变量，这种方法用Pandas很容易实现，你可以用和上面相同的步骤来训练你的模型"
   ]
  },
  {
   "cell_type": "code",
   "execution_count": 38,
   "metadata": {
    "colab": {
     "base_uri": "https://localhost:8080/",
     "height": 173
    },
    "colab_type": "code",
    "id": "unhcIOfMxQEQ",
    "outputId": "ecf36ce0-28af-4381-b61b-2592a3c1b289"
   },
   "outputs": [
    {
     "data": {
      "text/html": [
       "<div>\n",
       "<style scoped>\n",
       "    .dataframe tbody tr th:only-of-type {\n",
       "        vertical-align: middle;\n",
       "    }\n",
       "\n",
       "    .dataframe tbody tr th {\n",
       "        vertical-align: top;\n",
       "    }\n",
       "\n",
       "    .dataframe thead th {\n",
       "        text-align: right;\n",
       "    }\n",
       "</style>\n",
       "<table border=\"1\" class=\"dataframe\">\n",
       "  <thead>\n",
       "    <tr style=\"text-align: right;\">\n",
       "      <th></th>\n",
       "      <th>favorite_letter</th>\n",
       "    </tr>\n",
       "  </thead>\n",
       "  <tbody>\n",
       "    <tr>\n",
       "      <th>0</th>\n",
       "      <td>a</td>\n",
       "    </tr>\n",
       "    <tr>\n",
       "      <th>1</th>\n",
       "      <td>b</td>\n",
       "    </tr>\n",
       "    <tr>\n",
       "      <th>2</th>\n",
       "      <td>c</td>\n",
       "    </tr>\n",
       "    <tr>\n",
       "      <th>3</th>\n",
       "      <td>a</td>\n",
       "    </tr>\n",
       "  </tbody>\n",
       "</table>\n",
       "</div>"
      ],
      "text/plain": [
       "  favorite_letter\n",
       "0               a\n",
       "1               b\n",
       "2               c\n",
       "3               a"
      ]
     },
     "execution_count": 38,
     "metadata": {},
     "output_type": "execute_result"
    }
   ],
   "source": [
    "# 创建类别特征\n",
    "cat_data = pd.DataFrame(['a', 'b', 'c', 'a'], columns=['favorite_letter'])\n",
    "cat_data.head()"
   ]
  },
  {
   "cell_type": "code",
   "execution_count": 39,
   "metadata": {
    "colab": {
     "base_uri": "https://localhost:8080/",
     "height": 173
    },
    "colab_type": "code",
    "id": "m4eQmJdrxQGr",
    "outputId": "247aaac2-afcb-4899-e415-91d3fe169fbf"
   },
   "outputs": [
    {
     "data": {
      "text/html": [
       "<div>\n",
       "<style scoped>\n",
       "    .dataframe tbody tr th:only-of-type {\n",
       "        vertical-align: middle;\n",
       "    }\n",
       "\n",
       "    .dataframe tbody tr th {\n",
       "        vertical-align: top;\n",
       "    }\n",
       "\n",
       "    .dataframe thead th {\n",
       "        text-align: right;\n",
       "    }\n",
       "</style>\n",
       "<table border=\"1\" class=\"dataframe\">\n",
       "  <thead>\n",
       "    <tr style=\"text-align: right;\">\n",
       "      <th></th>\n",
       "      <th>favorite_letter_a</th>\n",
       "      <th>favorite_letter_b</th>\n",
       "      <th>favorite_letter_c</th>\n",
       "    </tr>\n",
       "  </thead>\n",
       "  <tbody>\n",
       "    <tr>\n",
       "      <th>0</th>\n",
       "      <td>1</td>\n",
       "      <td>0</td>\n",
       "      <td>0</td>\n",
       "    </tr>\n",
       "    <tr>\n",
       "      <th>1</th>\n",
       "      <td>0</td>\n",
       "      <td>1</td>\n",
       "      <td>0</td>\n",
       "    </tr>\n",
       "    <tr>\n",
       "      <th>2</th>\n",
       "      <td>0</td>\n",
       "      <td>0</td>\n",
       "      <td>1</td>\n",
       "    </tr>\n",
       "    <tr>\n",
       "      <th>3</th>\n",
       "      <td>1</td>\n",
       "      <td>0</td>\n",
       "      <td>0</td>\n",
       "    </tr>\n",
       "  </tbody>\n",
       "</table>\n",
       "</div>"
      ],
      "text/plain": [
       "   favorite_letter_a  favorite_letter_b  favorite_letter_c\n",
       "0                  1                  0                  0\n",
       "1                  0                  1                  0\n",
       "2                  0                  0                  1\n",
       "3                  1                  0                  0"
      ]
     },
     "execution_count": 39,
     "metadata": {},
     "output_type": "execute_result"
    }
   ],
   "source": [
    "dummy_cat_data = pd.get_dummies(cat_data) #独热编码 one-hot encoding，与dummy变量不同要注意。\n",
    "dummy_cat_data.head()"
   ]
  },
  {
   "cell_type": "markdown",
   "metadata": {
    "colab_type": "text",
    "id": "B5R8x-KyiBWJ"
   },
   "source": [
    "现在你可以拼接上连续特征变量来训练线性模型。"
   ]
  },
  {
   "cell_type": "markdown",
   "metadata": {
    "colab_type": "text",
    "id": "eVOXoCRsokzp"
   },
   "source": [
    "# TODO"
   ]
  },
  {
   "cell_type": "markdown",
   "metadata": {
    "colab_type": "text",
    "id": "4c7ttuUwfeLA"
   },
   "source": [
    "- 多项式回归\n",
    "- 一个简单的用正规方程的例子(sklearn.linear_model.LinearRegression)来分析优点和缺点，并且和随机梯度下降线性回归做对比。\n",
    "\n",
    "\n",
    "\n",
    "- 参考\n",
    "- ref\n",
    "- https://blog.csdn.net/weixin_40040404/article/details/81319121"
   ]
  },
  {
   "cell_type": "code",
   "execution_count": 64,
   "metadata": {},
   "outputs": [],
   "source": [
    "from sklearn.linear_model import LinearRegression\n",
    "import sklearn.linear_model as line_mode\n",
    "import sklearn.pipeline as spl             # 管线函数\n",
    "import sklearn.preprocessing as sp\n",
    "\n"
   ]
  },
  {
   "cell_type": "code",
   "execution_count": 65,
   "metadata": {},
   "outputs": [
    {
     "data": {
      "text/plain": [
       "Pipeline(memory=None,\n",
       "     steps=[('polynomialfeatures', PolynomialFeatures(degree=3, include_bias=True, interaction_only=False)), ('linearregression', LinearRegression(copy_X=True, fit_intercept=True, n_jobs=None,\n",
       "         normalize=False))])"
      ]
     },
     "execution_count": 65,
     "metadata": {},
     "output_type": "execute_result"
    }
   ],
   "source": [
    "#创建模型\n",
    "\n",
    "\n",
    "\n",
    "# 构建模型：训练数据train\n",
    "model_poly = spl.make_pipeline(sp.PolynomialFeatures(3),line_mode.LinearRegression())  # 构建多项式特征扩展器\n",
    "#model_poly = spl.Pipeline([('PolyFeatures', sp.PolynomialFeatures(7)),\n",
    "#                          ('RegressionModel',line_mode.LinearRegression())])\n",
    "model_poly.fit(standardized_X_train, standardized_y_train)                                                # 训练数据集\n",
    "\n",
    "\n",
    "\n",
    "model_poly\n",
    "\n",
    "\n"
   ]
  },
  {
   "cell_type": "code",
   "execution_count": 66,
   "metadata": {},
   "outputs": [],
   "source": [
    "#预测\n",
    "#pred_train_y = model_poly.predict(train_x)                                      # 根据训练集进行训练数据的预测\n",
    "\n",
    "## 拟合模型性能评估R^2\n",
    "#est_error = sm.r2_score(train_y, pred_train_y)                                  # R-square：模型决定系数R^2\n",
    "\n",
    "\n",
    "pred_train = (model_poly.predict(standardized_X_train) * np.sqrt(y_scaler.var_)) + y_scaler.mean_\n",
    "pred_test = (model_poly.predict(standardized_X_test) * np.sqrt(y_scaler.var_)) + y_scaler.mean_\n"
   ]
  },
  {
   "cell_type": "code",
   "execution_count": 67,
   "metadata": {},
   "outputs": [
    {
     "data": {
      "text/plain": [
       "(array([[74.],\n",
       "        [62.],\n",
       "        [66.],\n",
       "        [79.],\n",
       "        [48.],\n",
       "        [ 4.],\n",
       "        [64.],\n",
       "        [10.],\n",
       "        [93.],\n",
       "        [57.],\n",
       "        [72.],\n",
       "        [36.],\n",
       "        [ 7.],\n",
       "        [54.],\n",
       "        [77.],\n",
       "        [21.],\n",
       "        [18.],\n",
       "        [70.],\n",
       "        [86.],\n",
       "        [22.],\n",
       "        [ 6.],\n",
       "        [44.],\n",
       "        [ 8.],\n",
       "        [41.],\n",
       "        [16.],\n",
       "        [45.],\n",
       "        [20.],\n",
       "        [25.],\n",
       "        [55.],\n",
       "        [78.],\n",
       "        [31.],\n",
       "        [92.],\n",
       "        [ 5.],\n",
       "        [84.],\n",
       "        [32.],\n",
       "        [52.],\n",
       "        [13.],\n",
       "        [91.],\n",
       "        [17.],\n",
       "        [28.],\n",
       "        [46.],\n",
       "        [60.],\n",
       "        [14.],\n",
       "        [65.],\n",
       "        [12.],\n",
       "        [19.],\n",
       "        [ 2.],\n",
       "        [ 3.],\n",
       "        [ 0.],\n",
       "        [11.],\n",
       "        [67.],\n",
       "        [97.],\n",
       "        [34.],\n",
       "        [37.],\n",
       "        [95.],\n",
       "        [50.],\n",
       "        [99.],\n",
       "        [73.],\n",
       "        [80.],\n",
       "        [69.],\n",
       "        [58.],\n",
       "        [90.],\n",
       "        [89.],\n",
       "        [43.],\n",
       "        [30.],\n",
       "        [26.],\n",
       "        [23.],\n",
       "        [49.],\n",
       "        [15.],\n",
       "        [24.],\n",
       "        [76.],\n",
       "        [53.],\n",
       "        [38.],\n",
       "        [83.],\n",
       "        [47.]]), array([ 66.89966856,  79.37334896,  75.74965778,  60.15690169,\n",
       "         88.59905217, 100.6856645 ,  77.62370218,  99.19165202,\n",
       "         35.49752054,  83.23926611,  69.32622115,  93.29733102,\n",
       "         99.90252559,  85.2377954 ,  62.97339257,  96.90385525,\n",
       "         97.50833087,  71.60640904,  48.95915475,  96.70011643,\n",
       "        100.15462712,  90.42841992,  99.65845355,  91.61565839,\n",
       "         97.91256196,  89.99884911,  97.10601295,  96.07254852,\n",
       "         84.59676896,  61.58550214,  94.68204874,  37.56814062,\n",
       "        100.41544459,  52.37922285,  94.42474276,  86.44783071,\n",
       "         98.53450906,  39.58844009,  97.70986403,  95.40603753,\n",
       "         89.55122187,  81.0040899 ,  98.324198  ,  76.70257292,\n",
       "         98.74873077,  97.307276  , 101.25705746, 100.9659733 ,\n",
       "        101.8742978 ,  98.9675496 ,  74.76427029,  26.69810469,\n",
       "         93.8820474 ,  92.98749878,  31.20257267,  87.56641904,\n",
       "         21.97862484,  68.13158368,  58.68690477,  72.6933324 ,\n",
       "         82.52141677,  41.55910541,  43.48082307,  90.84062075,\n",
       "         94.93090888,  95.85562049,  96.49411001,  88.09313677,\n",
       "         98.11711113,  96.28514953,  64.32125948,  85.85458716,\n",
       "         92.66510186,  54.02167041,  89.08485171]), 74     67.260687\n",
       " 62     78.460181\n",
       " 66     75.126560\n",
       " 79     61.310684\n",
       " 48     87.726849\n",
       " 4      99.919968\n",
       " 64     76.837491\n",
       " 10     99.498744\n",
       " 93     36.755952\n",
       " 57     82.164469\n",
       " 72     69.397406\n",
       " 36     93.295230\n",
       " 7      99.754699\n",
       " 54     84.166502\n",
       " 77     63.804389\n",
       " 21     97.770139\n",
       " 18     98.366661\n",
       " 70     71.414284\n",
       " 86     51.029403\n",
       " 22     97.549987\n",
       " 6      99.819838\n",
       " 44     89.799777\n",
       " 8      99.679486\n",
       " 41     91.208552\n",
       " 16     98.711701\n",
       " 45     89.302855\n",
       " 20     97.979590\n",
       " 25     96.824584\n",
       " 55     83.516465\n",
       " 78     62.577951\n",
       "          ...    \n",
       " 19     98.178409\n",
       " 2      99.979998\n",
       " 3      99.954990\n",
       " 0     100.000000\n",
       " 11     99.393159\n",
       " 67     74.236110\n",
       " 97     24.310492\n",
       " 34     94.042544\n",
       " 37     92.903175\n",
       " 95     31.224990\n",
       " 50     86.602540\n",
       " 99     14.106736\n",
       " 73     68.344714\n",
       " 80     60.000000\n",
       " 69     72.380937\n",
       " 58     81.461647\n",
       " 90     43.588989\n",
       " 89     45.596052\n",
       " 43     90.282889\n",
       " 30     95.393920\n",
       " 26     96.560862\n",
       " 23     97.319063\n",
       " 49     87.172243\n",
       " 15     98.868600\n",
       " 24     97.077289\n",
       " 76     64.992307\n",
       " 53     84.799764\n",
       " 38     92.498649\n",
       " 83     55.776339\n",
       " 47     88.266641\n",
       " Name: y, Length: 75, dtype: float64)"
      ]
     },
     "execution_count": 67,
     "metadata": {},
     "output_type": "execute_result"
    }
   ],
   "source": [
    "X_train, pred_train, y_train"
   ]
  },
  {
   "cell_type": "code",
   "execution_count": 68,
   "metadata": {},
   "outputs": [
    {
     "data": {
      "text/plain": [
       "(array([[40.],\n",
       "        [35.],\n",
       "        [81.],\n",
       "        [61.],\n",
       "        [98.],\n",
       "        [68.],\n",
       "        [85.],\n",
       "        [27.],\n",
       "        [39.],\n",
       "        [42.],\n",
       "        [33.],\n",
       "        [59.],\n",
       "        [63.],\n",
       "        [94.],\n",
       "        [56.],\n",
       "        [87.],\n",
       "        [96.],\n",
       "        [ 1.],\n",
       "        [71.],\n",
       "        [82.],\n",
       "        [ 9.],\n",
       "        [51.],\n",
       "        [29.],\n",
       "        [88.],\n",
       "        [75.]]), array([ 91.97986814,  93.59528507,  57.1748249 ,  80.20323943,\n",
       "         24.36558449,  73.74572399,  50.69194646,  95.63367899,\n",
       "         92.32945381,  91.23613808,  94.15830447,  81.77658686,\n",
       "         78.51373204,  33.37589339,  83.93082135,  47.18016127,\n",
       "         28.97687193, 101.55960347,  70.48426745,  55.6199756 ,\n",
       "         99.42172452,  87.01821251,  95.17200965,  45.35427953,\n",
       "         65.62978931]))"
      ]
     },
     "execution_count": 68,
     "metadata": {},
     "output_type": "execute_result"
    }
   ],
   "source": [
    "X_test,pred_test"
   ]
  },
  {
   "cell_type": "code",
   "execution_count": 72,
   "metadata": {},
   "outputs": [
    {
     "name": "stdout",
     "output_type": "stream",
     "text": [
      "[98.22029461 96.70011637 73.9521148 ]\n"
     ]
    }
   ],
   "source": [
    "# 传入我们自己的输入值\n",
    "X_infer = np.array((14.5, 22, 67.8), dtype=np.float32)\n",
    "standardized_X_infer = X_scaler.transform(X_infer.reshape(-1, 1))\n",
    "pred_infer = (model_poly.predict(standardized_X_infer) * np.sqrt(y_scaler.var_)) + y_scaler.mean_\n",
    "print (pred_infer)"
   ]
  },
  {
   "cell_type": "code",
   "execution_count": 75,
   "metadata": {},
   "outputs": [
    {
     "data": {
      "image/png": "[encoded data removed]",
      "text/plain": [
       "<Figure size 1080x360 with 2 Axes>"
      ]
     },
     "metadata": {
      "needs_background": "light"
     },
     "output_type": "display_data"
    }
   ],
   "source": [
    "# 图例大小\n",
    "plt.figure(figsize=(15,5))\n",
    "\n",
    "# 画出训练数据\n",
    "plt.subplot(1, 2, 1)\n",
    "plt.title(\"Train\")\n",
    "plt.scatter(X_train, y_train, label=\"y_train\")\n",
    "#plt.plot(X_train, pred_train, color=\"red\", linewidth=1, linestyle=\"-\", label=\"lm\")\n",
    "plt.legend(loc='lower right')\n",
    "\n",
    "# 画出测试数据\n",
    "plt.subplot(1, 2, 2)\n",
    "plt.title(\"Test\")\n",
    "plt.scatter(X_test, y_test, label=\"y_test\")\n",
    "#plt.plot(X_test, pred_test, color=\"red\", linewidth=1, linestyle=\"-\", label=\"lm\")\n",
    "plt.scatter(X_test, pred_test, label=\"pred_test\")\n",
    "plt.scatter(X_infer, pred_infer, label=\"infer_test\")\n",
    "plt.legend(loc='lower right')\n",
    "\n",
    "# 显示图例\n",
    "plt.show()"
   ]
  },
  {
   "cell_type": "code",
   "execution_count": 71,
   "metadata": {},
   "outputs": [
    {
     "name": "stdout",
     "output_type": "stream",
     "text": [
      "[98.22029461 96.70011637 73.9521148 ]\n"
     ]
    },
    {
     "data": {
      "text/html": [
       "<div>\n",
       "<style scoped>\n",
       "    .dataframe tbody tr th:only-of-type {\n",
       "        vertical-align: middle;\n",
       "    }\n",
       "\n",
       "    .dataframe tbody tr th {\n",
       "        vertical-align: top;\n",
       "    }\n",
       "\n",
       "    .dataframe thead th {\n",
       "        text-align: right;\n",
       "    }\n",
       "</style>\n",
       "<table border=\"1\" class=\"dataframe\">\n",
       "  <thead>\n",
       "    <tr style=\"text-align: right;\">\n",
       "      <th></th>\n",
       "      <th>X</th>\n",
       "      <th>y</th>\n",
       "    </tr>\n",
       "  </thead>\n",
       "  <tbody>\n",
       "    <tr>\n",
       "      <th>0</th>\n",
       "      <td>0.0</td>\n",
       "      <td>100.000000</td>\n",
       "    </tr>\n",
       "    <tr>\n",
       "      <th>1</th>\n",
       "      <td>1.0</td>\n",
       "      <td>99.995000</td>\n",
       "    </tr>\n",
       "    <tr>\n",
       "      <th>2</th>\n",
       "      <td>2.0</td>\n",
       "      <td>99.979998</td>\n",
       "    </tr>\n",
       "  </tbody>\n",
       "</table>\n",
       "</div>"
      ],
      "text/plain": [
       "     X           y\n",
       "0  0.0  100.000000\n",
       "1  1.0   99.995000\n",
       "2  2.0   99.979998"
      ]
     },
     "execution_count": 71,
     "metadata": {},
     "output_type": "execute_result"
    }
   ],
   "source": [
    "\n"
   ]
  },
  {
   "cell_type": "code",
   "execution_count": null,
   "metadata": {},
   "outputs": [],
   "source": []
  }
 ],
 "metadata": {
  "colab": {
   "collapsed_sections": [],
   "name": "04_Linear_Regression",
   "provenance": [],
   "toc_visible": true,
   "version": "0.3.2"
  },
  "kernelspec": {
   "display_name": "Python 3",
   "language": "python",
   "name": "python3"
  },
  "language_info": {
   "codemirror_mode": {
    "name": "ipython",
    "version": 3
   },
   "file_extension": ".py",
   "mimetype": "text/x-python",
   "name": "python",
   "nbconvert_exporter": "python",
   "pygments_lexer": "ipython3",
   "version": "3.8.5"
  }
 },
 "nbformat": 4,
 "nbformat_minor": 1
}
